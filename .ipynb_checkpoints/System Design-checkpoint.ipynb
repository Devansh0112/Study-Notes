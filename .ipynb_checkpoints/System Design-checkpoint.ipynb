{
 "cells": [
  {
   "cell_type": "markdown",
   "id": "5aa857e3-f089-49d6-9d23-baee473f3b83",
   "metadata": {},
   "source": [
    "# Basics"
   ]
  },
  {
   "cell_type": "markdown",
   "id": "2599795c-a3b5-4f56-88fe-90a26f9b9510",
   "metadata": {},
   "source": [
    "<h3>\n",
    "Modularity\n",
    "</h3>\n",
    "\n",
    "<P>\n",
    "It is the principle of breaking down a system into smaller components or modules. Each module should have a well defined responsibility and interface.\n",
    "Modularity promotes code reusability, maintainability and testability. It allows for collaboration among team members as they can work and make changes on different modules concurrently.\n",
    "</P>"
   ]
  },
  {
   "cell_type": "markdown",
   "id": "b9fd3909-bf93-4842-9027-c46e64ee81db",
   "metadata": {},
   "source": [
    "<h3>\n",
    "    Scalability\n",
    "</h3>\n",
    "\n",
    "<p>\n",
    "    It refers to the ability of a system to handle increasing loads of growing demands by adding resources or adding more machines (scaling horizontally). Designing for scalability involves techniques such as load balancing, caching, and partitioning data.\n",
    "</p>"
   ]
  },
  {
   "cell_type": "markdown",
   "id": "69a7b2e4-dafe-44b8-ad65-2389b586842c",
   "metadata": {},
   "source": [
    "<h3>\n",
    "    Reliability\n",
    "</h3>\n",
    "\n",
    "<p>\n",
    "    It is the ability of a system to perform its functions correctly and consistently under various conditions, including failures and unexpected events.To acheive reliability, systems often incorporate redundancy, fault tolerance, and robust error-handling. Techniques like replication, backup systems, and automated failover can enhance reliability.\n",
    "</p>"
   ]
  },
  {
   "cell_type": "markdown",
   "id": "a6dcaabc-e72a-441e-ab10-aae062a6724e",
   "metadata": {},
   "source": [
    "<h3>\n",
    "    Performace\n",
    "</h3>\n",
    "\n",
    "<p>\n",
    "    It refers to the efficiency and responsiveness of a system. Designing for performance involves optimizing algorithms, minimizing latency, and reducing resource consumption.\n",
    "    Techniques like caching, indexing, and asynchronous processing can improve performance.\n",
    "    <br>\n",
    "    Performance testing and profiling are essential to identify bottlenecks and optimize system performance.\n",
    "</p>"
   ]
  },
  {
   "cell_type": "code",
   "execution_count": null,
   "id": "bcff887b-0614-4041-ba0e-71a7d4c501c2",
   "metadata": {},
   "outputs": [],
   "source": []
  }
 ],
 "metadata": {
  "kernelspec": {
   "display_name": "Python 3 (ipykernel)",
   "language": "python",
   "name": "python3"
  },
  "language_info": {
   "codemirror_mode": {
    "name": "ipython",
    "version": 3
   },
   "file_extension": ".py",
   "mimetype": "text/x-python",
   "name": "python",
   "nbconvert_exporter": "python",
   "pygments_lexer": "ipython3",
   "version": "3.11.4"
  }
 },
 "nbformat": 4,
 "nbformat_minor": 5
}
